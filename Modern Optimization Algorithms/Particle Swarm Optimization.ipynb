{
 "cells": [
  {
   "cell_type": "markdown",
   "id": "4967a7dc",
   "metadata": {},
   "source": [
    "# 粒子群优化算法 Particle Swarm Optimization\n",
    "\n",
    "xyfJASON\n",
    "\n",
    "## 1 概述\n",
    "\n",
    "粒子群优化算法源自鸟群的不是行为，通过个体和群体的协作和信息共享寻找最优解。特点在于实现简单，没有过多需要调节的参数。粒子群优化算法善于解决连续函数的优化问题，对于诸如 TSP 等组合优化问题需要改动为广义粒子群优化，此处不做阐述。\n",
    "\n",
    "粒子群优化算法步骤如下：\n",
    "\n",
    "1. 初始化一群随机粒子，每个粒子具有速度和位置两个属性 $(v_i,x_i)$\n",
    "2. 每个粒子按下述公式更新速度和位置：\n",
    "   $$\n",
    "   \\begin{cases}\n",
    "   v_i=\\omega\\cdot v_i+c_1\\cdot \\text{rand()}\\cdot(\\text{pbest}_i-x_i)+c_2\\cdot\\text{rand()}\\cdot(\\text{gbest}-x_i)\\\\\n",
    "   x_i=x_i+v_i\n",
    "   \\end{cases}\n",
    "   $$\n",
    "   其中，$\\text{rand()}$ 是 $[0,1]$ 之间的随机数，$c_1,c_2$ 是系数，$\\text{pbest}_i$ 是该粒子自身到达的最佳点，$\\text{gbest}$ 是群体到达过的最佳点。\n",
    "   $\\omega$ 是惯性因子，可线性递减动态调节：\n",
    "   $$\n",
    "   \\omega^{(t)}=(\\omega_\\text{ini}-\\omega_\\text{end})(G-g)/G+\\omega_\\text{end}\n",
    "   $$\n",
    "   其中，$\\omega_\\text{ini},\\omega_\\text{end}$ 分别是初始、结束惯性因子，$G$ 是最大迭代次数，$g$ 是当前迭代次数\n",
    "3. 重复步骤 2 直至到达最大迭代次数"
   ]
  },
  {
   "cell_type": "markdown",
   "id": "57330a60",
   "metadata": {},
   "source": [
    "## 2 代码模板"
   ]
  },
  {
   "cell_type": "code",
   "execution_count": 1,
   "id": "0646e0e6",
   "metadata": {},
   "outputs": [],
   "source": [
    "import matplotlib.pyplot as plt\n",
    "import numpy as np\n",
    "from tqdm import tqdm\n",
    "\n",
    "\n",
    "class ParticleSwarmOptimization:\n",
    "    \"\"\"\n",
    "    To run PSO, inherit this class, then\n",
    "    override 'gen_init_particles` and `evaluate_particles`.\n",
    "    \"\"\"\n",
    "    def __init__(self,\n",
    "                 n_particle: int,\n",
    "                 T: int,\n",
    "                 c1: float = 2,\n",
    "                 c2: float = 2,\n",
    "                 omega_init: float = 0.9,\n",
    "                 omega_end: float = 0.4,\n",
    "                 lb: np.ndarray = None,\n",
    "                 ub: np.ndarray = None) -> None:\n",
    "        \"\"\"\n",
    "        :param n_particle: number of particles\n",
    "        :param T: maximum iterations\n",
    "        :param c1: factor\n",
    "        :param c2: factor\n",
    "        :param omega_init: factor\n",
    "        :param omega_end: factor\n",
    "        :param lb: lower bound of particles\n",
    "        :param ub: upper bound of particles\n",
    "        \"\"\"\n",
    "        self.n_particle = n_particle\n",
    "        self.T = T\n",
    "        self.c1 = c1\n",
    "        self.c2 = c2\n",
    "        self.omega_init = omega_init\n",
    "        self.omega_end = omega_end\n",
    "        self.lb, self.ub = lb, ub\n",
    "        self.v, self.p = self.gen_init_particles()\n",
    "        assert self.v.shape == self.p.shape and len(self.v.shape) == 2\n",
    "        assert self.v.shape[0] == n_particle\n",
    "        self.n_dim = self.v.shape[1]\n",
    "        assert self.lb.shape == self.ub.shape == self.v.shape\n",
    "        self.record_gbest = []\n",
    "        self.record_scores = []\n",
    "\n",
    "    def reset(self) -> None:\n",
    "        self.v, self.p = self.gen_init_particles()\n",
    "        self.n_dim = self.v.shape[1]\n",
    "        self.record_gbest = []\n",
    "        self.record_scores = []\n",
    "\n",
    "    def gen_init_particles(self) -> tuple[np.ndarray, np.ndarray]:\n",
    "        \"\"\"\n",
    "        Return two ndarray of the same size [n_particle, K]\n",
    "        The first ndarray is the velocity of particles\n",
    "        The second ndarray is the position of particles\n",
    "        \"\"\"\n",
    "        raise NotImplementedError\n",
    "\n",
    "    def evaluate_particles(self, p: np.ndarray) -> np.ndarray:\n",
    "        \"\"\"\n",
    "        :param p: [N, k], position of particles\n",
    "        :return: [N], scores of each particle, the higher the better\n",
    "        \"\"\"\n",
    "        raise NotImplementedError\n",
    "\n",
    "    def run(self) -> np.ndarray:\n",
    "        pbest = self.p.copy()  # [N, K]\n",
    "        pbest_scores = self.evaluate_particles(pbest)  # [N]\n",
    "        gbest = pbest[np.argmax(pbest_scores)]  # [K]\n",
    "        gbest_scores = np.max(pbest_scores)  # [1]\n",
    "        for t in tqdm(range(self.T)):\n",
    "            omega = (self.omega_init - self.omega_end) * (self.T - t) / self.T + self.omega_end\n",
    "            self.v = (\n",
    "                    omega * self.v +\n",
    "                    self.c1 * np.random.rand(self.n_particle, 1) * (pbest - self.p) +\n",
    "                    self.c2 * np.random.rand(self.n_particle, 1) * (gbest - self.p)\n",
    "            )\n",
    "            self.p += self.v\n",
    "            self.p = np.clip(self.p, self.lb, self.ub)\n",
    "            scores = self.evaluate_particles(self.p)  # [N]\n",
    "            update_mask = (pbest_scores < scores)\n",
    "            pbest[update_mask] = self.p[update_mask]\n",
    "            pbest_scores[update_mask] = scores[update_mask]\n",
    "            if gbest_scores < np.max(pbest_scores):\n",
    "                gbest_scores = np.max(pbest_scores)\n",
    "                gbest = pbest[np.argmax(pbest_scores)]\n",
    "            self.record_gbest.append(gbest_scores)\n",
    "            self.record_scores.append(scores)\n",
    "        return gbest\n",
    "\n",
    "    def plot(self, history: bool = True, best: bool = True) -> None:\n",
    "        fig, ax = plt.subplots(1, 1)\n",
    "        assert history or best\n",
    "        ax.set_title('Score curve')\n",
    "        ax.set_xlabel('Iters')\n",
    "        ax.set_ylabel('Score')\n",
    "        if history:\n",
    "            record = np.vstack(self.record_scores)\n",
    "            ax.errorbar(x=range(1, self.T+1),\n",
    "                        y=record.mean(axis=1),\n",
    "                        yerr=np.max(record, axis=1)-record.mean(axis=1),\n",
    "                        fmt='.',\n",
    "                        c='dodgerblue', label='history')\n",
    "        if best:\n",
    "            ax.plot(range(1, self.T+1), self.record_gbest, label='best', c='darkorange')\n",
    "        plt.legend()\n",
    "        plt.show()"
   ]
  },
  {
   "cell_type": "markdown",
   "id": "68a859a0",
   "metadata": {},
   "source": [
    "## 3 例题\n",
    "\n",
    "求下列函数在 $[-3,3]^2$ 上的最大值：\n",
    "$$\n",
    "F(x,y)=3(1-x)^2e^{-x^2-(y+1)^2}-10\\left(\\frac{x}{5}-x^3-y^5\\right)e^{-x^2-y^2}-\\frac{1}{3}^{\\exp\\left(-(x+1)^2-y^2\\right)}\n",
    "$$\n",
    "代码如下："
   ]
  },
  {
   "cell_type": "code",
   "execution_count": 2,
   "id": "0f2f2544",
   "metadata": {},
   "outputs": [
    {
     "name": "stderr",
     "output_type": "stream",
     "text": [
      "100%|███████████████████████████████████████| 100/100 [00:00<00:00, 8206.91it/s]\n"
     ]
    },
    {
     "name": "stdout",
     "output_type": "stream",
     "text": [
      "[-0.01477502  1.57699404] 7.15019499494628\n"
     ]
    },
    {
     "data": {
      "image/png": "[encoded data removed]",
      "text/plain": [
       "<Figure size 432x288 with 1 Axes>"
      ]
     },
     "metadata": {
      "needs_background": "light"
     },
     "output_type": "display_data"
    }
   ],
   "source": [
    "def F(x, y):\n",
    "    return 3*(1-x)**2*np.exp(-(x**2)-(y+1)**2)-10*(x/5-x**3-y**5)*np.exp(-x**2-y**2)-1/3**np.exp(-(x+1)**2-y**2)\n",
    "\n",
    "n = 5\n",
    "\n",
    "class Solver(ParticleSwarmOptimization):\n",
    "    def gen_init_particles(self) -> tuple[np.ndarray, np.ndarray]:\n",
    "        v = np.random.rand(n, 2) * 2 - 1\n",
    "        p = np.random.rand(n, 2) * 6 - 3\n",
    "        return v, p\n",
    "\n",
    "    def evaluate_particles(self, p: np.ndarray) -> np.ndarray:\n",
    "        return F(p[:, 0], p[:, 1])\n",
    "\n",
    "solver = Solver(n_particle=n,\n",
    "                T=100,\n",
    "                lb=np.ones((n, 2))*-3,\n",
    "                ub=np.ones((n, 2))*3)\n",
    "res = solver.run()\n",
    "print(res, F(res[0], res[1]))\n",
    "solver.plot()"
   ]
  }
 ],
 "metadata": {
  "kernelspec": {
   "display_name": "Python 3 (ipykernel)",
   "language": "python",
   "name": "python3"
  },
  "language_info": {
   "codemirror_mode": {
    "name": "ipython",
    "version": 3
   },
   "file_extension": ".py",
   "mimetype": "text/x-python",
   "name": "python",
   "nbconvert_exporter": "python",
   "pygments_lexer": "ipython3",
   "version": "3.9.4"
  }
 },
 "nbformat": 4,
 "nbformat_minor": 5
}
