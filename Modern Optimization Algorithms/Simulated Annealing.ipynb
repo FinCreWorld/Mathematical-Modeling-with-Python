{
 "cells": [
  {
   "cell_type": "markdown",
   "id": "4a3cd0ea",
   "metadata": {},
   "source": [
    "# 模拟退火 Simulated Annealing\n",
    "\n",
    "xyfJASON\n",
    "\n",
    "## 1 概述\n",
    "\n",
    "定义状态 $i$ 的能量为 $E(i)$，在温度 $T$ 下，从状态 $i$ 进入状态 $j$ 遵循如下规律：\n",
    "\n",
    "- 若 $E(j)\\leqslant E(i)$​，则接受该转换；\n",
    "\n",
    "- 否则，以如下概率接受转换：\n",
    "  $$\n",
    "  e^\\frac{E(i)-E(j)}{KT}\n",
    "  $$\n",
    "  其中，$K$ 在物理意义上是玻尔兹曼常数，但在算法实现中我们取 $K=1$ 即可。\n",
    "\n",
    "在**特定温度**下，充分次转换后状态的概率分布达到平衡（玻尔兹曼分布）：\n",
    "$$\n",
    "P_T(X=i)=\\frac{\\exp\\left(-\\frac{E(i)}{KT}\\right)}{\\sum\\limits_{j\\in S}\\exp\\left(-\\frac{E(j)}{KT}\\right)}\n",
    "$$\n",
    "容易知道，当 $T$ 很大时，该分布区倾向于均匀分布，即每种状态等可能出现；而当 $T$ 很小时，该分布倾向于集中在能量最低的状态上，即有很大概率进入能量最小状态。\n",
    "\n",
    "综上，模拟退火算法步骤如下：\n",
    "\n",
    "1. 设定初始温度、结束温度、降温比率、能量函数\n",
    "2. 设定初始状态和状态转换规则，要求当前状态只依赖于前一个状态\n",
    "3. 在当前温度下按照接受概率进行若干次状态转换\n",
    "4. 降温\n",
    "5. 重复 3、4 步骤直至温度低于结束温度\n",
    "\n",
    "**因此，要用模拟退火算法解决一个实际问题，最关键的步骤是设计好状态表示、能量函数和状态转换规则。**"
   ]
  },
  {
   "cell_type": "markdown",
   "id": "5af45014",
   "metadata": {},
   "source": [
    "## 2 代码模板"
   ]
  },
  {
   "cell_type": "code",
   "execution_count": 2,
   "id": "2b58183f",
   "metadata": {},
   "outputs": [],
   "source": [
    "import numpy as np\n",
    "import matplotlib.pyplot as plt\n",
    "\n",
    "\n",
    "class SimulatedAnnealing:\n",
    "    \"\"\"\n",
    "    To run simulated annealing, inherit this class, then\n",
    "    override 'gen_init_state_energy` and `next_state_energy`.\n",
    "    \"\"\"\n",
    "    def __init__(self,\n",
    "                 init_T: float,\n",
    "                 end_T: float,\n",
    "                 cool_factor: float,\n",
    "                 steps_per_T: int = 1) -> None:\n",
    "        self.init_T = init_T\n",
    "        self.end_T = end_T\n",
    "        self.cool_factor = cool_factor\n",
    "        self.steps_per_T = steps_per_T\n",
    "        self.init_state, self.init_energy = self.gen_init_state_energy()\n",
    "        self.record_energy = ([], [])  # 0: history; 1: best\n",
    "\n",
    "    def reset(self) -> None:\n",
    "        self.init_state, self.init_energy = self.gen_init_state_energy()\n",
    "        self.record_energy = ([], [])\n",
    "\n",
    "    def gen_init_state_energy(self) -> tuple[object, float]:\n",
    "        raise NotImplementedError\n",
    "\n",
    "    def next_state_energy(self, cur_state: object, cur_energy: float) -> tuple[object, float]:\n",
    "        raise NotImplementedError\n",
    "\n",
    "    def step(self, cur_T: float, cur_state: object, cur_energy: float) -> tuple[object, float]:\n",
    "        next_state, next_energy = self.next_state_energy(cur_state, cur_energy)\n",
    "        delta_energy = max(0.0, next_energy - cur_energy)\n",
    "        prob = np.exp(-delta_energy / cur_T)\n",
    "        if np.random.rand() <= prob:\n",
    "            return next_state, next_energy\n",
    "        else:\n",
    "            return cur_state, cur_energy\n",
    "\n",
    "    def run(self) -> tuple[object, float]:\n",
    "        cur_T = self.init_T\n",
    "        cur_state = self.init_state\n",
    "        cur_energy = self.init_energy\n",
    "        best_state = self.init_state\n",
    "        best_energy = self.init_energy\n",
    "        while cur_T > self.end_T:\n",
    "            for _ in range(self.steps_per_T):\n",
    "                cur_state, cur_energy = self.step(cur_T, cur_state, cur_energy)\n",
    "                if best_energy > cur_energy:\n",
    "                    best_state, best_energy = cur_state, cur_energy\n",
    "                self.record_energy[0].append(cur_energy)\n",
    "                self.record_energy[1].append(best_energy)\n",
    "            cur_T *= self.cool_factor\n",
    "        return best_state, best_energy\n",
    "\n",
    "    def plot(self, history: bool = True, best: bool = True) -> None:\n",
    "        assert history or best\n",
    "        fig, ax = plt.subplots(1, 1)\n",
    "        length = len(self.record_energy[0])\n",
    "        if history:\n",
    "            ax.plot(range(length), self.record_energy[0], label='history', c='dodgerblue')\n",
    "        if best:\n",
    "            ax.plot(range(length), self.record_energy[1], label='best', c='darkorange')\n",
    "        ax.set_title('Energy curve')\n",
    "        ax.set_xlabel('Iters')\n",
    "        ax.set_ylabel('Energy')\n",
    "        plt.legend()\n",
    "        plt.show()"
   ]
  },
  {
   "cell_type": "markdown",
   "id": "ec04e280",
   "metadata": {},
   "source": [
    "## 3 例题\n",
    "\n",
    "### 3.1 例一——旅行商问题（TSP）\n",
    "\n",
    "http://www.math.uwaterloo.ca/tsp/vlsi/index.html\n",
    "\n",
    "模拟退火算法解 TSP 问题：\n",
    "\n",
    "- 状态表示：城市编号序列，依次按照序列顺序访问城市\n",
    "- 能量函数：路径长度\n",
    "- 状态转换规则：在当前序列中随机选择一段连续自序列，翻转并插入回原位置\n",
    "\n",
    "代码如下："
   ]
  },
  {
   "cell_type": "code",
   "execution_count": 4,
   "id": "c947529b",
   "metadata": {},
   "outputs": [
    {
     "name": "stdout",
     "output_type": "stream",
     "text": [
      "(array([130, 125, 124, 123, 117, 120, 129, 122, 113, 104, 105, 101, 100,\n",
      "        99, 111,  97,  92,  88,  80,  81,  86,  87,  91,  93,  98, 106,\n",
      "       112, 107, 108, 114, 126, 127, 128, 121, 116, 119, 115, 118, 109,\n",
      "       110, 102, 103,  96,  95,  94,  89,  90,  72,  60,  59,  58,  57,\n",
      "        71,  79,  85,  84,  83,  82,  78,  69,  65,  75,  70,  66,  62,\n",
      "        56,  51,  50,  55,  61,  64,  68,  77,  76,  74,  67,  63,  73,\n",
      "        52,  44,  25,  26,  27,  45,  53,  54,  46,  47,  48,  49,  33,\n",
      "        20,  32,  31,  30,  19,  29,  28,  18,  24,  16,  15,  14,  13,\n",
      "        17,  12,   4,  11,   5,   0,   6,   7,   1,   2,   8,   9,   3,\n",
      "        10,  23,  43,  42,  41,  40,  39,  38,  37,  36,  35,  34,  21,\n",
      "        22]), 603.9435948379039)\n"
     ]
    },
    {
     "data": {
      "image/png": "[encoded data removed]",
      "text/plain": [
       "<Figure size 432x288 with 1 Axes>"
      ]
     },
     "metadata": {
      "needs_background": "light"
     },
     "output_type": "display_data"
    },
    {
     "data": {
      "image/png": "[encoded data removed]",
      "text/plain": [
       "<Figure size 432x288 with 1 Axes>"
      ]
     },
     "metadata": {
      "needs_background": "light"
     },
     "output_type": "display_data"
    }
   ],
   "source": [
    "def TSP():\n",
    "    \"\"\"\n",
    "    For this problem, the best result is 564\n",
    "    refer to https://www.math.uwaterloo.ca/tsp/vlsi/xqf131.tour.html\n",
    "    \"\"\"\n",
    "    with open('tsp_data.txt') as f:\n",
    "        data = [list(map(int, line.strip().split())) for line in f.readlines()]\n",
    "        data = np.array(data)\n",
    "    n = 131\n",
    "\n",
    "    def distance(_i, _j):\n",
    "        \"\"\" distance between the ith row and the jth row \"\"\"\n",
    "        return np.sqrt((data[_i, 1] - data[_j, 1]) ** 2 + (data[_i, 2] - data[_j, 2]) ** 2)\n",
    "\n",
    "    class Solver(SimulatedAnnealing):\n",
    "        def gen_init_state_energy(self) -> tuple[np.ndarray, float]:\n",
    "            best_init_state, best_init_energy = np.arange(n), np.inf\n",
    "            for _ in range(10):\n",
    "                init_state = np.random.permutation(n)\n",
    "                init_energy = 0.0\n",
    "                for i in range(n):\n",
    "                    j = (i + 1) % n\n",
    "                    init_energy += distance(init_state[i], init_state[j])\n",
    "                if init_energy < best_init_energy:\n",
    "                    best_init_state, best_init_energy = init_state, init_energy\n",
    "            return best_init_state, best_init_energy\n",
    "\n",
    "        def next_state_energy(self, cur_state: np.ndarray, cur_energy: float) -> tuple[np.ndarray, float]:\n",
    "            u, v = np.random.choice(n+1, 2, replace=False)\n",
    "            u, v = (v, u) if u > v else (u, v)\n",
    "            next_state = cur_state.copy()\n",
    "            next_state[u:v] = next_state[u:v][::-1]  # [u, v)\n",
    "            next_energy = cur_energy\n",
    "            if u > 0:\n",
    "                next_energy -= distance(cur_state[u], cur_state[u-1])\n",
    "                next_energy += distance(cur_state[v-1], cur_state[u-1])\n",
    "            if v < n:\n",
    "                next_energy -= distance(cur_state[v], cur_state[v-1])\n",
    "                next_energy += distance(cur_state[v], cur_state[u])\n",
    "            return next_state, next_energy\n",
    "\n",
    "    solver = Solver(init_T=100,\n",
    "                    end_T=1e-30,\n",
    "                    cool_factor=0.999,\n",
    "                    steps_per_T=1)\n",
    "    res = solver.run()\n",
    "    print(res)\n",
    "    solver.plot()\n",
    "\n",
    "    def plot_route(res_state):\n",
    "        fig, ax = plt.subplots(1, 1)\n",
    "        ax.scatter(data[:, 1], data[:, 2])\n",
    "        ax.plot(np.hstack((data[res_state, 1], data[res_state[0:1], 1])),\n",
    "                np.hstack((data[res_state, 2], data[res_state[0:1], 2])))\n",
    "        plt.show()\n",
    "\n",
    "    plot_route(res[0])\n",
    "\n",
    "\n",
    "TSP()"
   ]
  },
  {
   "cell_type": "markdown",
   "id": "119f49c5",
   "metadata": {},
   "source": [
    "### 3.2 例二\n",
    "\n",
    "求下列函数在 $[-3,3]^2$ 上的最大值：\n",
    "$$\n",
    "F(x,y)=3(1-x)^2e^{-x^2-(y+1)^2}-10\\left(\\frac{x}{5}-x^3-y^5\\right)e^{-x^2-y^2}-\\frac{1}{3}^{\\exp\\left(-(x+1)^2-y^2\\right)}\n",
    "$$\n",
    "代码如下："
   ]
  },
  {
   "cell_type": "code",
   "execution_count": 5,
   "id": "0a955146",
   "metadata": {},
   "outputs": [
    {
     "name": "stdout",
     "output_type": "stream",
     "text": [
      "[-0.01394722  1.57744731] 7.150186914480746\n"
     ]
    },
    {
     "data": {
      "image/png": "[encoded data removed]",
      "text/plain": [
       "<Figure size 432x288 with 1 Axes>"
      ]
     },
     "metadata": {
      "needs_background": "light"
     },
     "output_type": "display_data"
    }
   ],
   "source": [
    "def F(x, y):\n",
    "    return 3*(1-x)**2*np.exp(-(x**2)-(y+1)**2)-10*(x/5-x**3-y**5)*np.exp(-x**2-y**2)-1/3**np.exp(-(x+1)**2-y**2)\n",
    "\n",
    "class Solver(SimulatedAnnealing):\n",
    "    def gen_init_state_energy(self) -> tuple[np.ndarray, float]:\n",
    "        return np.array([0, 0]), -F(0, 0)\n",
    "\n",
    "    def next_state_energy(self, cur_state: np.ndarray, cur_energy: float) -> tuple[np.ndarray, float]:\n",
    "        next_state = cur_state + np.random.randn(2) / 10.\n",
    "        next_state = np.clip(next_state, [-3, -3], [3, 3])\n",
    "        return next_state, -F(next_state[0], next_state[1])\n",
    "\n",
    "solver = Solver(init_T=100,\n",
    "                end_T=1e-30,\n",
    "                cool_factor=0.996,\n",
    "                steps_per_T=1)\n",
    "res = solver.run()\n",
    "print(res[0], -res[1])\n",
    "solver.plot()"
   ]
  },
  {
   "cell_type": "markdown",
   "id": "388cb19a",
   "metadata": {},
   "source": [
    "作图如下：\n",
    "![](img/sa.png)"
   ]
  }
 ],
 "metadata": {
  "kernelspec": {
   "display_name": "Python 3 (ipykernel)",
   "language": "python",
   "name": "python3"
  },
  "language_info": {
   "codemirror_mode": {
    "name": "ipython",
    "version": 3
   },
   "file_extension": ".py",
   "mimetype": "text/x-python",
   "name": "python",
   "nbconvert_exporter": "python",
   "pygments_lexer": "ipython3",
   "version": "3.9.4"
  }
 },
 "nbformat": 4,
 "nbformat_minor": 5
}
