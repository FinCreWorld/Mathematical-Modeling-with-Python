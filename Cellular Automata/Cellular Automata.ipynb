{
 "cells": [
  {
   "cell_type": "markdown",
   "id": "7584d35f",
   "metadata": {},
   "source": [
    "# 元胞自动机 Cellular Automata\n",
    "\n",
    "xyfJASON\n",
    "\n",
    "## 1 理论\n",
    "\n",
    "元胞自动机的思想很简单，在一个 $n$ 维网格内有一些元胞，每个元胞可以取有限种状态，给定状态转换的规则（依赖于元胞当前状态和邻居当前状态），则在下一个时刻，元胞们依据规则转换状态，就构成了一个元胞自动机。\n",
    "\n",
    "一些经典的元胞自动机：\n",
    "\n",
    "- 生命游戏：二维平面，每个细胞两种状态——生/死，下一时刻的状态受其周围 $8$ 个细胞的状态而定：\n",
    "  1. 如果一个细胞周围有 $3$ 个细胞为生，则该细胞为生；\n",
    "  2. 如果一个细胞周围有 $2$ 个细胞为生，则该细胞的生死状态保持不变；\n",
    "  3. 在其它情况下，该细胞为死。\n",
    "- NaSch：一维模拟车辆交通模型。每个位置有两种状态——有车/无车，每辆车具有位置 $x$ 和速度 $v$ 两个属性，$v\\in[0, v_\\max]$，更新规则为：\n",
    "  1. 加速：$v_n\\gets \\min(v_{n}+1,\\,v_\\max)$\n",
    "  2. 减速：$v_n\\gets\\min(v_n,\\,x_{n+1}-x_n-1)$，保证不碰撞\n",
    "  3. 随机慢化：以概率 $p$ 慢化，$v_n\\gets \\max(v_n-1, 0)$\n",
    "  4. 位置更新：$x_n\\gets x_n+v_n$"
   ]
  },
  {
   "cell_type": "markdown",
   "id": "6d705d29",
   "metadata": {},
   "source": [
    "## 2 代码模板\n",
    "\n",
    "$2$ 维网格："
   ]
  },
  {
   "cell_type": "code",
   "execution_count": 1,
   "id": "9bd7d8b3",
   "metadata": {},
   "outputs": [],
   "source": [
    "from abc import ABC\n",
    "import numpy as np\n",
    "import matplotlib.pyplot as plt\n",
    "\n",
    "\n",
    "class CellularAutomata2D:\n",
    "    \"\"\"\n",
    "    To use cellular automata in 2D space, inherit this class,\n",
    "    then override one of `next_state_global` and `next_state_single_cell`.\n",
    "    Override `gen_init_state` if random binary initialization is not desired.\n",
    "    \"\"\"\n",
    "    def __init__(self, sz_grid: tuple[int, int]) -> None:\n",
    "        assert len(sz_grid) == 2\n",
    "        self.sz_grid = sz_grid\n",
    "\n",
    "    def gen_init_state(self) -> np.ndarray:\n",
    "        \"\"\" Generate initial state\n",
    "        Generate binary code randomly by default, override if needed.\n",
    "        \"\"\"\n",
    "        return np.random.randint(0, 2, size=self.sz_grid)\n",
    "\n",
    "    def next_state_global(self, cur_state: np.ndarray) -> np.ndarray:\n",
    "        \"\"\" Return next state of all cells directly \"\"\"\n",
    "        raise NotImplementedError\n",
    "\n",
    "    def next_state_single_cell(self, cur_state: np.ndarray, pos: tuple[int, int] or int) -> int:\n",
    "        \"\"\" Return next state of the single cell at `pos` \"\"\"\n",
    "        raise NotImplementedError\n",
    "\n",
    "    def run(self, max_iters: int = 10, pause_time: float = 0.1) -> None:\n",
    "        state = self.gen_init_state()\n",
    "        assert state.shape == self.sz_grid\n",
    "        for it in range(max_iters):\n",
    "            ploty, plotx = np.nonzero(state)\n",
    "            ploty = self.sz_grid[0] - 1 - ploty\n",
    "            plt.plot(plotx, ploty, 'sk')\n",
    "            plt.xticks([]); plt.yticks([])\n",
    "            plt.axis([-0.5, self.sz_grid[1]+0.5, -0.5, self.sz_grid[0] + 0.5])\n",
    "            plt.xlabel('time step: %d' % it)\n",
    "            plt.pause(pause_time)\n",
    "            plt.cla()\n",
    "            try:\n",
    "                state = self.next_state_global(state)\n",
    "            except NotImplementedError:\n",
    "                next_state = state.copy()\n",
    "                for i in range(self.sz_grid[0]):\n",
    "                    for j in range(self.sz_grid[1]):\n",
    "                        next_state[i, j] = self.next_state_single_cell(state, (i, j))\n",
    "                state = next_state"
   ]
  },
  {
   "cell_type": "markdown",
   "id": "50a21726",
   "metadata": {},
   "source": [
    "$1$ 维网格（继承 $2$ 维网格实现）："
   ]
  },
  {
   "cell_type": "code",
   "execution_count": 2,
   "id": "b1ceb013",
   "metadata": {},
   "outputs": [],
   "source": [
    "class CellularAutomata1D(CellularAutomata2D, ABC):\n",
    "    \"\"\"\n",
    "    Cellular automata in 1D space, inherited from 2D form.\n",
    "    \"\"\"\n",
    "    def __init__(self, sz_grid: int) -> None:\n",
    "        super().__init__((1, sz_grid))\n",
    "        self.sz_grid = sz_grid\n",
    "\n",
    "    def run(self, max_iters: int = 10, pause_time: float = 0.1) -> None:\n",
    "        state = self.gen_init_state()\n",
    "        assert state.shape[0] == self.sz_grid\n",
    "        for it in range(max_iters):\n",
    "            plotx = np.nonzero(state)[0]\n",
    "            plt.plot(plotx, np.zeros(plotx.shape[0]), 'sk')\n",
    "            plt.xticks([]); plt.yticks([])\n",
    "            plt.axis([-0.5, self.sz_grid+0.5, -0.5, 0.5])\n",
    "            plt.xlabel('time step: %d' % it)\n",
    "            plt.pause(pause_time)\n",
    "            plt.cla()\n",
    "            try:\n",
    "                state = self.next_state_global(state)\n",
    "            except NotImplementedError:\n",
    "                next_state = state.copy()\n",
    "                for i in range(self.sz_grid):\n",
    "                    next_state[i] = self.next_state_single_cell(state, i)\n",
    "                state = next_state"
   ]
  },
  {
   "cell_type": "markdown",
   "id": "3e5f9216",
   "metadata": {},
   "source": [
    "## 3 例题\n",
    "\n",
    "### 3.1 例一——生命游戏"
   ]
  },
  {
   "cell_type": "code",
   "execution_count": 3,
   "id": "5bb67aa5",
   "metadata": {
    "scrolled": true
   },
   "outputs": [
    {
     "data": {
      "image/png": "[encoded data removed]",
      "text/plain": [
       "<Figure size 432x288 with 1 Axes>"
      ]
     },
     "metadata": {},
     "output_type": "display_data"
    },
    {
     "data": {
      "image/png": "[encoded data removed]",
      "text/plain": [
       "<Figure size 432x288 with 1 Axes>"
      ]
     },
     "metadata": {},
     "output_type": "display_data"
    },
    {
     "data": {
      "image/png": "[encoded data removed]",
      "text/plain": [
       "<Figure size 432x288 with 1 Axes>"
      ]
     },
     "metadata": {},
     "output_type": "display_data"
    },
    {
     "data": {
      "image/png": "[encoded data removed]",
      "text/plain": [
       "<Figure size 432x288 with 1 Axes>"
      ]
     },
     "metadata": {},
     "output_type": "display_data"
    },
    {
     "data": {
      "image/png": "[encoded data removed]",
      "text/plain": [
       "<Figure size 432x288 with 1 Axes>"
      ]
     },
     "metadata": {},
     "output_type": "display_data"
    },
    {
     "data": {
      "image/png": "[encoded data removed]",
      "text/plain": [
       "<Figure size 432x288 with 1 Axes>"
      ]
     },
     "metadata": {},
     "output_type": "display_data"
    },
    {
     "data": {
      "image/png": "[encoded data removed]",
      "text/plain": [
       "<Figure size 432x288 with 1 Axes>"
      ]
     },
     "metadata": {},
     "output_type": "display_data"
    },
    {
     "data": {
      "image/png": "[encoded data removed]",
      "text/plain": [
       "<Figure size 432x288 with 1 Axes>"
      ]
     },
     "metadata": {},
     "output_type": "display_data"
    },
    {
     "data": {
      "image/png": "[encoded data removed]",
      "text/plain": [
       "<Figure size 432x288 with 1 Axes>"
      ]
     },
     "metadata": {},
     "output_type": "display_data"
    },
    {
     "data": {
      "image/png": "[encoded data removed]",
      "text/plain": [
       "<Figure size 432x288 with 1 Axes>"
      ]
     },
     "metadata": {},
     "output_type": "display_data"
    },
    {
     "data": {
      "image/png": "[encoded data removed]",
      "text/plain": [
       "<Figure size 432x288 with 1 Axes>"
      ]
     },
     "metadata": {
      "needs_background": "light"
     },
     "output_type": "display_data"
    }
   ],
   "source": [
    "class LifeGame(CellularAutomata2D, ABC):\n",
    "    def gen_init_state(self) -> np.ndarray:\n",
    "        init = np.zeros(self.sz_grid)\n",
    "        init[[1, 1, 2, 2, 3, 3, 3, 3, 5, 5, 5, 5, 5, 5, 5, 5, 5, 5, 6, 6, 6, 6, 6, 6,\n",
    "              7, 7, 7, 7, 9, 9, 9, 9, 10, 10, 10, 10, 10, 10, 11, 11, 11, 11, 11,\n",
    "              11, 11, 11, 11, 11, 13, 13, 13, 13, 14, 14, 15, 15],\n",
    "             [5, 11, 5, 11, 5, 6, 10, 11, 1, 2, 3, 6, 7, 9, 10, 13, 14, 15, 3, 5, 7, 9, 11, 13, 5, 6, 10, 11,\n",
    "              5, 6, 10, 11, 3, 5, 7, 9, 11, 13, 1, 2, 3, 6, 7, 9, 10, 13, 14, 15, 5, 6, 10, 11, 5, 11, 5, 11]] = 1\n",
    "        return init\n",
    "\n",
    "    def next_state_single_cell(self, cur_state: np.ndarray, pos: tuple[int, int]) -> int:\n",
    "        cnt_alive = 0\n",
    "        for i in [-1, 0, 1]:\n",
    "            for j in [-1, 0, 1]:\n",
    "                if i == 0 and j == 0:\n",
    "                    continue\n",
    "                cnt_alive += cur_state[(pos[0] + i) % self.sz_grid[0],\n",
    "                                       (pos[1] + j) % self.sz_grid[1]]\n",
    "        return 1 if cnt_alive == 3 else (cur_state[pos[0], pos[1]] if cnt_alive == 2 else 0)\n",
    "\n",
    "game = LifeGame((20, 20))\n",
    "game.run(max_iters=10, pause_time=0.1)"
   ]
  },
  {
   "cell_type": "markdown",
   "id": "9feafdaa",
   "metadata": {},
   "source": [
    "### 3.2 例二——$\\textbf{NaSch}$ 单车道交通模型"
   ]
  },
  {
   "cell_type": "code",
   "execution_count": 4,
   "id": "8d47f8c6",
   "metadata": {},
   "outputs": [
    {
     "data": {
      "image/png": "[encoded data removed]",
      "text/plain": [
       "<Figure size 432x288 with 1 Axes>"
      ]
     },
     "metadata": {},
     "output_type": "display_data"
    },
    {
     "data": {
      "image/png": "[encoded data removed]",
      "text/plain": [
       "<Figure size 432x288 with 1 Axes>"
      ]
     },
     "metadata": {},
     "output_type": "display_data"
    },
    {
     "data": {
      "image/png": "[encoded data removed]",
      "text/plain": [
       "<Figure size 432x288 with 1 Axes>"
      ]
     },
     "metadata": {},
     "output_type": "display_data"
    },
    {
     "data": {
      "image/png": "[encoded data removed]",
      "text/plain": [
       "<Figure size 432x288 with 1 Axes>"
      ]
     },
     "metadata": {},
     "output_type": "display_data"
    },
    {
     "data": {
      "image/png": "[encoded data removed]",
      "text/plain": [
       "<Figure size 432x288 with 1 Axes>"
      ]
     },
     "metadata": {},
     "output_type": "display_data"
    },
    {
     "data": {
      "image/png": "[encoded data removed]",
      "text/plain": [
       "<Figure size 432x288 with 1 Axes>"
      ]
     },
     "metadata": {},
     "output_type": "display_data"
    },
    {
     "data": {
      "image/png": "[encoded data removed]",
      "text/plain": [
       "<Figure size 432x288 with 1 Axes>"
      ]
     },
     "metadata": {},
     "output_type": "display_data"
    },
    {
     "data": {
      "image/png": "[encoded data removed]",
      "text/plain": [
       "<Figure size 432x288 with 1 Axes>"
      ]
     },
     "metadata": {},
     "output_type": "display_data"
    },
    {
     "data": {
      "image/png": "[encoded data removed]",
      "text/plain": [
       "<Figure size 432x288 with 1 Axes>"
      ]
     },
     "metadata": {},
     "output_type": "display_data"
    },
    {
     "data": {
      "image/png": "[encoded data removed]",
      "text/plain": [
       "<Figure size 432x288 with 1 Axes>"
      ]
     },
     "metadata": {},
     "output_type": "display_data"
    },
    {
     "data": {
      "image/png": "[encoded data removed]",
      "text/plain": [
       "<Figure size 432x288 with 1 Axes>"
      ]
     },
     "metadata": {
      "needs_background": "light"
     },
     "output_type": "display_data"
    }
   ],
   "source": [
    "class NaSch(CellularAutomata1D, ABC):\n",
    "    def __init__(self, sz_grid: int, n_cars: int, vmax: int, p_slow: float) -> None:\n",
    "        super().__init__(sz_grid)\n",
    "        self.n_cars = n_cars\n",
    "        self.vmax = vmax\n",
    "        self.p_slow = p_slow\n",
    "        # self.x = np.random.choice(sz_grid, size=n_cars, replace=False)\n",
    "        # self.x = np.sort(self.x)  # random initialization\n",
    "        self.x = np.arange(n_cars)  # queue initialization\n",
    "        self.v = np.zeros(n_cars)\n",
    "\n",
    "    def gen_init_state(self) -> np.ndarray:\n",
    "        state = np.zeros(self.sz_grid)\n",
    "        state[self.x.astype(int)] = 1\n",
    "        return state\n",
    "\n",
    "    def next_state_global(self, cur_state: np.ndarray) -> np.ndarray:\n",
    "        self.v = np.minimum(self.v + 1, self.vmax)\n",
    "        self.v = np.minimum(self.v, (np.concatenate((self.x[1:], self.x[0:1])) -\n",
    "                                     self.x + self.sz_grid - 1) % self.sz_grid)\n",
    "        slow_mask = np.random.rand(self.n_cars) <= self.p_slow\n",
    "        self.v[slow_mask] = np.maximum(self.v[slow_mask] - 1, 0)\n",
    "        self.x = (self.x + self.v) % self.sz_grid\n",
    "        return self.gen_init_state()\n",
    "\n",
    "nasch = NaSch(sz_grid=20, n_cars=12, vmax=5, p_slow=0.3)\n",
    "nasch.run(max_iters=10, pause_time=0.1)"
   ]
  }
 ],
 "metadata": {
  "kernelspec": {
   "display_name": "Python 3 (ipykernel)",
   "language": "python",
   "name": "python3"
  },
  "language_info": {
   "codemirror_mode": {
    "name": "ipython",
    "version": 3
   },
   "file_extension": ".py",
   "mimetype": "text/x-python",
   "name": "python",
   "nbconvert_exporter": "python",
   "pygments_lexer": "ipython3",
   "version": "3.9.4"
  }
 },
 "nbformat": 4,
 "nbformat_minor": 5
}
